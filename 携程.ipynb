# encoding: utf-8
from prettytable import PrettyTable
import requests
import json
import pymysql
import time
import sqlite3
import random
import telnetlib  # ����ip�Ƿ����õ�ģ��
import re
import csv

global count
global city_cnt
import numpy as np
import random

city_list = ['����������', '����', '��ɽ',
 '��ͷ', '��ɽ', '����', '����', '����', '����', '����',
 '�ɶ�', '����', '��ɳ', '����', '��Դ', '����', '����',
 '����', '�ػ�', 'â��', '�������', '��ɽ', '����', '����',
 '����', '��Ԫ', '����', '����', '����', '����', '������', '����',
 '�Ϸ�', '�ں�', '���ͺ���', '����', '��ɽ', '��ľ˹', '������',
 '����', '����', '����', '����ɽ', '������', '�Ž�',
 '�⳵', '�����', '����', '����', '��ƽ', '����', '��', '�ٷ�',
 '����', '����', '÷��', '����', '�ϲ�',
 '�Ͼ�', '����', '��ͨ', '����', '����', '��֦��', '��ĩ', '�ػʵ�', '�ൺ', '����',
 '����', '����', '����', '����', '��ũ��', '����', '̨��', '̫ԭ', '����',
 '�ڳ�', 'ͭ��', '��³��', '����', '����',
 '����', '����', '����ɽ', '����', '���ֺ���',
 '���', '�γ�', '����', '�˱�', '�˴�', '����', '����', '�˳�',
 '��Ҵ', '��ͨ', '֣��', '����', '��ɽ', '����(ę́)', '����(����)']



city = {'����ɽ': 'YIE', '������': 'AKU', '����������': 'RHT', '����������': 'AXF', '����̩': 'AAT', '����': 'NGQ', '����': 'MFM',
        '����': 'AQG', '��˳': 'AVA', '��ɽ': 'AOG', '�����׶�': 'RLK', '��ɫ': 'AEB', '��ͷ': 'BAV', '��ɽ': 'BSD', '����': 'BHY',
        '����': 'BJS', '�׳�': 'DBC', '��ɽ': 'NBS', '�Ͻ�': 'BFJ', '����': 'BPL', '����': 'CKG', '����': 'BPX', '����': 'CGD',
        '����': 'CZX', '����': 'CHG', '�ɶ�': 'CTU', '����': 'JUH', '���': 'CIF', '����': 'SWA', '����': 'CGQ', '��ɳ': 'CSX',
        '����': 'CIH', '�е�': 'CDE', '��Դ': 'CWJ', '����': 'DAX', '����': 'DLU', '����': 'DLC', '����': 'DQA', '��ͬ': 'DAT',
        '����': 'DDG', '����': 'DCY', '��Ӫ': 'DOY', '�ػ�': 'DNH', 'â��': 'LUM', '�������': 'EJN', '������˹': 'DSN', '��ʩ': 'ENH',
        '��������': 'ERL', '��ɽ': 'FUO', '����': 'FOC', '��Զ': 'FYJ', '����': 'FUG', '����': 'KOW', '���ľ': 'GOQ', '��ԭ': 'GYU',
        '��Ԫ': 'GYS', '����': 'CAN', '����': 'KWE', '����': 'KWL', '������': 'HRB', '����': 'HMI', '����': 'HAK', '������': 'HLD',
        '����': 'HDG', '����': 'HZG', '����': 'HGH', '�Ϸ�': 'HFE', '����': 'HTN', '�ں�': 'HEK', '���ͺ���': 'HET', '����': 'HIA',
        '����': 'HJJ', '��ɽ': 'TXN', '����': 'HUZ', '����': 'JXA', '����': 'TNA', '����': 'JNG', '�Ӹ����': 'JGD', '��ľ˹': 'JMU',
        '������': 'JGN', '���': 'JIC', '����': 'KNH', '����': 'JNZ', '����': 'CYI', '��˫����': 'JHG', '������': 'JSJ', '����': 'JJN',
        '����ɽ': 'JGS', '������': 'JDZ', '�Ž�': 'JIU',  # '��կ��': 'JZH',
        '��ʲ': 'KHG', '����': 'KJH', '����': 'KGT', '��������': 'KRY',
        '�⳵': 'KCA', '�����': 'KRL', '����': 'KMG', '����': 'LXA', '����': 'LHW', '��ƽ': 'HZH', '����': 'LJG', '��': 'LLB',
        '���Ƹ�': 'LYG', '����ˮ': 'LPF', '�ٷ�': 'LFQ', '��֥': 'LZY', '�ٲ�': 'LNJ', '����': 'LYI', '����': 'LZH', '����': 'LZO',
        '����': 'LYA', '����': 'LLV', '����': 'JMJ', '����': 'LCX', '������': 'NZH', '÷��': 'MXZ', '����': 'MIG', 'Į��': 'OHE',
        'ĵ����': 'MDG', '����': 'MFK', '�ϲ�': 'KHN', '�ϳ�': 'NAO', '�Ͼ�': 'NKG', '����': 'NNG', '��ͨ': 'NTG', '����': 'NNY',
        '����': 'NGB', '����': 'NLH', '��֦��': 'PZI', '�ն�': 'SYM', '�������': 'NDG', 'ǭ��': 'JIQ', '��ĩ': 'IQM', '�ػʵ�': 'BPE',
        '�ൺ': 'TAO', '����': 'IQN', '����': 'JUZ', '�տ���': 'RKZ', '����': 'RIZ', '����': 'SYX', '����': 'XMN', '�Ϻ�': 'SHA',
        '����': 'SZX', '��ũ��': 'HPG', '����': 'SHE', 'ʯ��ׯ': 'SJW', '����': 'TCG', '̨��': 'HYN', '̫ԭ': 'TYN', '����': 'YTY',
        '��ɽ': 'TVS', '�ڳ�': 'TCZ', '���': 'TSN', '��ˮ': 'THQ', 'ͨ��': 'TGO', 'ͭ��': 'TEN', '��³��': 'TLQ', '����': 'WXN',
        '����': 'WEH', 'Ϋ��': 'WEF', '����': 'WNZ', '��ɽ': 'WNH', '�ں�': 'WUA', '��������': 'HLH', '��³ľ��': 'URC', '����': 'WUX',
        '����': 'WUZ', '�人': 'WUH', '����ɽ': 'WUS', '����': 'SIA', '����': 'XIC', '����': 'XNN', '���ֺ���': 'XIL', '�������(����)': 'DIG',
        '����': 'XFN', '����': 'ACX', '����': 'XUZ', '���': 'HKG', '��̨': 'YNT', '�Ӱ�': 'ENY', '�Ӽ�': 'YNJ', '�γ�': 'YNZ',
        '����': 'LDS',
        '����': 'YIN', '�˱�': 'YBP', '�˲�': 'YIH', '�˴�': 'YIC', '����': 'YIW', '����': 'INC', '����': 'LLF', '����': 'UYN',
        '����': 'YUS',
        '�˳�': 'YCU', 'տ��': 'ZHA', '�żҽ�': 'DYG', '�żҿ�': 'ZQZ', '��Ҵ': 'YZY', '��ͨ': 'ZAT', '֣��': 'CGO', '����': 'ZHY',
        '��ɽ': 'HSN',
        '�麣': 'ZUH', '����(ę́)': 'WMT', '����(����)': 'ZYI'}


def get_ip():
    ip_list = []
    port_list = []
    conn = sqlite3.connect(r"C:\Users\12592\Documents\GitHub\IP\IPProxyPool\data\proxy.db")
    cur = conn.cursor()
    cur.execute("""
    select ip from proxys;
    """)
    cursor = cur.fetchall()
    for row in cursor:
        ip_list.append(row[0])

    cur.execute("""
    select port from proxys;
    """)
    port = cur.fetchall()
    for row in port:
        port_list.append(row[0])
    # �ύ�޸�
    conn.commit()

    # �ر����ݿ�����
    conn.close()
    l = len(ip_list)
    i = random.randint(0, l - 1)
    try:
        telnetlib.Telnet(ip_list[i], port='%s' % port_list[i], timeout=5)
    except:
        ip = get_ip()
    else:
        ip = ip_list[i]
    return ip


def table_exists(con, table_name):  # ������������жϱ��Ƿ����

    sql = "show tables;"
    con.execute(sql)

    tables = [con.fetchall()]

    table_list = re.findall('(\'.*?\')', str(tables))
    table_list = [re.sub("'", '', each) for each in table_list]
    if table_name in table_list:

        return 1  # ���ڷ���1

    else:

        return 0  # �����ڷ���0


def xiecheng(dcity, acity, date, string):
    date = date[0:4] + '-' + date[4:6] + '-' + date[6:8]

    headers = {
        "User-Agent": "Mozilla/5.0 (Windows NT 10.0; Win64; x64) AppleWebKit/537.36 (KHTML, like Gecko) Chrome/69.0.3497.100 Safari/537.36",
        'Referer': 'http://flights.ctrip.com/itinerary/oneway/szx-hak?date=2019-05-20',  # 5-20
        "Content-Type": "application/json",  # �����ı�����Ϊ json ��ʽ,
        # 'Cookie':'DomesticUserHostCity: BJS|%b1%b1%be%a9'
    }
    # ip = get_ip()
    # print (ip)
    # proxies = {'http': 'http://61.163.247.10' }
    url = 'http://flights.ctrip.com/itinerary/api/12808/products'
    request_payload = {"flightWay": "Oneway",
                       "classType": "ALL",
                       "hasChild": 'false',
                       "hasBaby": 'false',
                       "searchIndex": 1,
                       "portingToken": "3fec6a5a249a44faba1f245e61e2af88",
                       "airportParams": [
                           {"dcity": city.get(dcity), "acity": city.get(acity), "dcityname": dcity, "acityname": acity,
                            "date": date}]}
    # ���ﴫ��ȥ�Ĳ�������Ϊ json ��ʽ
    Flag = False
    while not Flag:
        try:
            response = requests.post(url, data=json.dumps(request_payload), headers=headers).text
        except:
            print("��������ʧ��")
            time.sleep(5)
        else:
            try:
                msg = json.loads(response).get('msg')
            except:
                print("json��ȡ����1")
                return
            else:
                if (msg != 'success'):
                    print("��ǰҳ�汻����")
                    time.sleep(60)
                    return
            try:
                routeList = json.loads(response).get('data').get('routeList')
            except:
                print("json��ȡ����2")
                return
            else:
                Flag = True
    table = PrettyTable(["Airline", "FlightNumber", "DepartureDate", 'ArrivalDate', 'PunctualityRate', 'LowestPrice', 'CraftTypeName', 'CraftTypeKindDisplayName'])
    print (response)
    # ���û��ֱ��ɻ���ֱ�ӷ��ز����м���
    print("%s->%s " % (dcity, acity))
    if (routeList == None):
        print("�������Ϣ")
    else:
        print(routeList[0].get('routeType'))
        if (routeList[0].get('routeType') == 'Transit' or routeList[0].get('routeType') == 'FlightTrain'):
            print("��ֱ��1")
    # if (table_exists(cursor, string) == 1):
    # print ("impossible error")
    # ʹ��Ԥ������䴴����
    sql = """CREATE TABLE %s(
             ID_NUM INT UNSIGNED AUTO_INCREMENT,
             Airline  VARCHAR(20) NOT NULL,
             FlightNumber  VARCHAR(20) NOT NULL,
             DepartureDate VARCHAR(20) NOT NULL,  
             ArrivalDate VARCHAR(20) NOT NULL,
             PuntualityRate VARCHAR(20) NOT NULL,
             LowestCost INT NOT NULL, 
             CraftTypeName VARCHAR(20) NOT NULL,
             CraftTypeKindDisplayName VARCHAR(20) NOT NULL,
             PRIMARY KEY(ID_NUM))""" % string

    cursor.execute(sql)
    if (routeList == None):
        return
        
    for route in routeList:
        if len(route.get('legs')) == 1:
            info = {}
            legs = route.get('legs')[0]
            flight = legs.get('flight')
            info['Airline'] = flight.get('airlineName')
            info['FlightNumber'] = flight.get('flightNumber')
            info['DepartureDate'] = flight.get('departureDate')[-8:-3]
            info['ArrivalDate'] = flight.get('arrivalDate')[-8:-3]
            info['PunctualityRate'] = flight.get('punctualityRate')
            info['LowestPrice'] = legs.get('characteristic').get('lowestPrice')
            info['CraftTypeName'] = flight.get('craftTypeName')
            info['CraftTypeKindDisplayName'] = flight.get('craftTypeKindDisplayName')
            table.add_row(info.values())
            # SQL �������
            # SQL �������
            sql = "INSERT INTO %s(Airline, \
                   FlightNumber, DepartureDate, ArrivalDate, PuntualityRate, LowestCost, CraftTypeName, CraftTypeKindDisplayName) \
                   VALUES ('%s', '%s',  '%s',  '%s', '%s', %s, '%s', '%s')" % \
                  (string, info['Airline'], info['FlightNumber'], info['DepartureDate'], info['ArrivalDate'],
                   info['PunctualityRate'], info['LowestPrice'], info['CraftTypeName'], info['CraftTypeKindDisplayName'])
            try:
                # ִ��sql���
                cursor.execute(sql)
                # ִ��sql���
                db.commit()
            except:
                # ��������ʱ�ع�
                db.rollback()

    print(table)


if __name__ == "__main__":
    # �����ݿ�����
    db = pymysql.connect("localhost", "root", "Huzi19980614", "test")
    # ʹ��cursor()������ȡ�����α�
    cursor = db.cursor()
    finished_citys = []
    csv_file = csv.reader(open('finished_citys.csv', 'r'))
    for stu in csv_file:
        finished_citys.append(stu[0])
    print(finished_citys)
    global city_cnt
    city_cnt = 0

    city_list = city_list[0:31]
    for c1 in city_list:
        if (c1 in finished_citys):
            continue
        for c2 in city.keys():
            string = str(city[c1] + city[c2])
            string = string.lower()
            if (c1 == c2):
                continue
            elif (table_exists(cursor, string) == 1):  # �������ݿ���,�����ٽ��и�����
                print("%s->%sû�и���" % (c1, c2))
                continue
            else:
                dcity = c1
                acity = c2
                date = "20190530"
                xiecheng(dcity, acity, date, string)
                time.sleep(5)
        finished_citys.append(c1)
        print("finished_citys:", finished_citys)
        city_cnt = city_cnt + 1
        # ÿ������������д��һ��
        if (city_cnt == 1):
            city_cnt = 0
            # ��finished_citysд��
            out = open('finished_citys.csv', 'w+', newline='')
            # �趨д��ģʽ
            csv_write = csv.writer(out, dialect='excel')
            for cityone in finished_citys:
                stu = [cityone]
                # д���������
                csv_write.writerow(stu)
            out.close()
            print('write over')


    db.close()

